{
 "cells": [
  {
   "cell_type": "code",
   "execution_count": 1,
   "id": "196806a0",
   "metadata": {},
   "outputs": [],
   "source": [
    "import pandas as pd\n",
    "import numpy as np\n",
    "\n",
    "df = pd.read_csv(\"all_data_labeled_att_Rel.csv\")\n",
    "bands = ['delta', 'theta', 'lowAlpha', 'highAlpha', 'lowBeta', 'highBeta', 'lowGamma', 'highGamma']\n",
    "EPS = 1e-6\n"
   ]
  },
  {
   "cell_type": "code",
   "execution_count": 2,
   "id": "a4ee89b8",
   "metadata": {},
   "outputs": [
    {
     "name": "stderr",
     "output_type": "stream",
     "text": [
      "C:\\Users\\Moustafa\\AppData\\Local\\Temp\\ipykernel_26740\\2389032923.py:25: FutureWarning: Series.fillna with 'method' is deprecated and will raise in a future version. Use obj.ffill() or obj.bfill() instead.\n",
      "  df[f'{band}_delta'] = df[band] - df[band].shift(window_feat).fillna(method='bfill')\n",
      "C:\\Users\\Moustafa\\AppData\\Local\\Temp\\ipykernel_26740\\2389032923.py:25: FutureWarning: Series.fillna with 'method' is deprecated and will raise in a future version. Use obj.ffill() or obj.bfill() instead.\n",
      "  df[f'{band}_delta'] = df[band] - df[band].shift(window_feat).fillna(method='bfill')\n",
      "C:\\Users\\Moustafa\\AppData\\Local\\Temp\\ipykernel_26740\\2389032923.py:25: FutureWarning: Series.fillna with 'method' is deprecated and will raise in a future version. Use obj.ffill() or obj.bfill() instead.\n",
      "  df[f'{band}_delta'] = df[band] - df[band].shift(window_feat).fillna(method='bfill')\n",
      "C:\\Users\\Moustafa\\AppData\\Local\\Temp\\ipykernel_26740\\2389032923.py:25: FutureWarning: Series.fillna with 'method' is deprecated and will raise in a future version. Use obj.ffill() or obj.bfill() instead.\n",
      "  df[f'{band}_delta'] = df[band] - df[band].shift(window_feat).fillna(method='bfill')\n",
      "C:\\Users\\Moustafa\\AppData\\Local\\Temp\\ipykernel_26740\\2389032923.py:25: FutureWarning: Series.fillna with 'method' is deprecated and will raise in a future version. Use obj.ffill() or obj.bfill() instead.\n",
      "  df[f'{band}_delta'] = df[band] - df[band].shift(window_feat).fillna(method='bfill')\n",
      "C:\\Users\\Moustafa\\AppData\\Local\\Temp\\ipykernel_26740\\2389032923.py:25: FutureWarning: Series.fillna with 'method' is deprecated and will raise in a future version. Use obj.ffill() or obj.bfill() instead.\n",
      "  df[f'{band}_delta'] = df[band] - df[band].shift(window_feat).fillna(method='bfill')\n",
      "C:\\Users\\Moustafa\\AppData\\Local\\Temp\\ipykernel_26740\\2389032923.py:25: FutureWarning: Series.fillna with 'method' is deprecated and will raise in a future version. Use obj.ffill() or obj.bfill() instead.\n",
      "  df[f'{band}_delta'] = df[band] - df[band].shift(window_feat).fillna(method='bfill')\n",
      "C:\\Users\\Moustafa\\AppData\\Local\\Temp\\ipykernel_26740\\2389032923.py:25: FutureWarning: Series.fillna with 'method' is deprecated and will raise in a future version. Use obj.ffill() or obj.bfill() instead.\n",
      "  df[f'{band}_delta'] = df[band] - df[band].shift(window_feat).fillna(method='bfill')\n"
     ]
    }
   ],
   "source": [
    "# Band sums & ratios\n",
    "df['alpha_sum'] = df['lowAlpha'] + df['highAlpha']\n",
    "df['beta_sum'] = df['lowBeta'] + df['highBeta']\n",
    "df['theta_beta'] = df['theta'] / (df['beta_sum'] + EPS)\n",
    "df['alpha_beta'] = df['alpha_sum'] / (df['beta_sum'] + EPS)\n",
    "df['lowHigh_alpha'] = df['lowAlpha'] / (df['highAlpha'] + EPS)\n",
    "df['lowHigh_beta'] = df['lowBeta'] / (df['highBeta'] + EPS)\n",
    "df['gamma_beta'] = (df['lowGamma'] + df['highGamma']) / (df['beta_sum'] + EPS)\n",
    "df['alpha_theta'] = df['alpha_sum'] / (df['theta'] + EPS)\n",
    "df['beta_theta'] = df['beta_sum'] / (df['theta'] + EPS)\n",
    "df['alpha_theta_beta'] = df['alpha_sum'] / (df['theta'] + df['beta_sum'] + EPS)\n",
    "df['theta_alpha'] = df['theta'] / (df['alpha_sum'] + EPS)\n",
    "df['gamma_alpha'] = (df['lowGamma'] + df['highGamma']) / (df['alpha_sum'] + EPS)\n",
    "\n",
    "# Rolling stats (window=10)\n",
    "window_feat = 10\n",
    "for band in bands:\n",
    "    df[f'{band}_mean'] = df[band].rolling(window_feat, min_periods=1).mean()\n",
    "    df[f'{band}_std'] = df[band].rolling(window_feat, min_periods=1).std().fillna(0)\n",
    "    df[f'{band}_min'] = df[band].rolling(window_feat, min_periods=1).min()\n",
    "    df[f'{band}_max'] = df[band].rolling(window_feat, min_periods=1).max()\n",
    "\n",
    "# Deltas: change in each band over last 10 samples\n",
    "for band in bands:\n",
    "    df[f'{band}_delta'] = df[band] - df[band].shift(window_feat).fillna(method='bfill')\n",
    "\n",
    "# Normalized band power for each band (per row)\n",
    "total_power = df[bands].sum(axis=1) + EPS\n",
    "for band in bands:\n",
    "    df[f'{band}_norm'] = df[band] / total_power\n",
    "\n",
    "# List of all engineered features\n",
    "ratios = [\n",
    "    'theta_beta', 'alpha_beta', 'lowHigh_alpha', 'lowHigh_beta', 'gamma_beta',\n",
    "    'alpha_theta', 'beta_theta', 'alpha_theta_beta', 'theta_alpha', 'gamma_alpha'\n",
    "]\n",
    "rollings = [f\"{b}_{stat}\" for b in bands for stat in ['mean', 'std', 'min', 'max']]\n",
    "deltas = [f\"{b}_delta\" for b in bands]\n",
    "norms = [f\"{b}_norm\" for b in bands]\n",
    "feature_cols = bands + ratios + rollings + deltas + norms\n"
   ]
  },
  {
   "cell_type": "code",
   "execution_count": 3,
   "id": "9a3d1a58",
   "metadata": {},
   "outputs": [],
   "source": [
    "def create_sequences_mode_label(df, feature_cols, label_cols, window_size=100, step=2):\n",
    "    X_seq, y1_seq, y2_seq = [], [], []\n",
    "    def most_common(arr):\n",
    "        values, counts = np.unique(arr, return_counts=True)\n",
    "        return values[np.argmax(counts)]\n",
    "    for i in range(0, len(df) - window_size, step):\n",
    "        window = df.iloc[i:i+window_size]\n",
    "        X_seq.append(window[feature_cols].values)\n",
    "        y1_seq.append(most_common(window[label_cols[0]].values))\n",
    "        y2_seq.append(most_common(window[label_cols[1]].values))\n",
    "    return np.array(X_seq), np.array(y1_seq), np.array(y2_seq)\n"
   ]
  },
  {
   "cell_type": "code",
   "execution_count": 4,
   "id": "ac77e347",
   "metadata": {},
   "outputs": [],
   "source": [
    "# 1. Create sequences (use the fixed function from above)\n",
    "label_cols = ['attention_label', 'relaxation_label']\n",
    "\n",
    "X, y_att, y_rel = create_sequences_mode_label(df, feature_cols, label_cols, window_size=20, step=2)\n",
    "\n",
    "# 2. Label encoding for y_att, y_rel\n",
    "from sklearn.preprocessing import LabelEncoder\n",
    "from tensorflow.keras.utils import to_categorical\n",
    "\n",
    "le_att = LabelEncoder()\n",
    "le_rel = LabelEncoder()\n",
    "y_att_enc = le_att.fit_transform(y_att)\n",
    "y_rel_enc = le_rel.fit_transform(y_rel)\n",
    "y_att_oh = to_categorical(y_att_enc)\n",
    "y_rel_oh = to_categorical(y_rel_enc)\n"
   ]
  },
  {
   "cell_type": "code",
   "execution_count": 5,
   "id": "ab4fe836",
   "metadata": {},
   "outputs": [],
   "source": [
    "from sklearn.model_selection import train_test_split\n",
    "\n",
    "X_train, X_test, y_att_train, y_att_test, y_rel_train, y_rel_test = train_test_split(\n",
    "    X, y_att_oh, y_rel_oh, test_size=0.2, random_state=42, stratify=y_att\n",
    ")\n"
   ]
  },
  {
   "cell_type": "code",
   "execution_count": null,
   "id": "6c32d618",
   "metadata": {},
   "outputs": [],
   "source": []
  },
  {
   "cell_type": "code",
   "execution_count": 6,
   "id": "3e68d68f",
   "metadata": {},
   "outputs": [
    {
     "data": {
      "text/html": [
       "<pre style=\"white-space:pre;overflow-x:auto;line-height:normal;font-family:Menlo,'DejaVu Sans Mono',consolas,'Courier New',monospace\"><span style=\"font-weight: bold\">Model: \"functional\"</span>\n",
       "</pre>\n"
      ],
      "text/plain": [
       "\u001b[1mModel: \"functional\"\u001b[0m\n"
      ]
     },
     "metadata": {},
     "output_type": "display_data"
    },
    {
     "data": {
      "text/html": [
       "<pre style=\"white-space:pre;overflow-x:auto;line-height:normal;font-family:Menlo,'DejaVu Sans Mono',consolas,'Courier New',monospace\">┏━━━━━━━━━━━━━━━━━━━━━┳━━━━━━━━━━━━━━━━━━━┳━━━━━━━━━━━━┳━━━━━━━━━━━━━━━━━━━┓\n",
       "┃<span style=\"font-weight: bold\"> Layer (type)        </span>┃<span style=\"font-weight: bold\"> Output Shape      </span>┃<span style=\"font-weight: bold\">    Param # </span>┃<span style=\"font-weight: bold\"> Connected to      </span>┃\n",
       "┡━━━━━━━━━━━━━━━━━━━━━╇━━━━━━━━━━━━━━━━━━━╇━━━━━━━━━━━━╇━━━━━━━━━━━━━━━━━━━┩\n",
       "│ eeg_input           │ (<span style=\"color: #00d7ff; text-decoration-color: #00d7ff\">None</span>, <span style=\"color: #00af00; text-decoration-color: #00af00\">20</span>, <span style=\"color: #00af00; text-decoration-color: #00af00\">66</span>)    │          <span style=\"color: #00af00; text-decoration-color: #00af00\">0</span> │ -                 │\n",
       "│ (<span style=\"color: #0087ff; text-decoration-color: #0087ff\">InputLayer</span>)        │                   │            │                   │\n",
       "├─────────────────────┼───────────────────┼────────────┼───────────────────┤\n",
       "│ conv1d (<span style=\"color: #0087ff; text-decoration-color: #0087ff\">Conv1D</span>)     │ (<span style=\"color: #00d7ff; text-decoration-color: #00d7ff\">None</span>, <span style=\"color: #00af00; text-decoration-color: #00af00\">20</span>, <span style=\"color: #00af00; text-decoration-color: #00af00\">128</span>)   │     <span style=\"color: #00af00; text-decoration-color: #00af00\">59,264</span> │ eeg_input[<span style=\"color: #00af00; text-decoration-color: #00af00\">0</span>][<span style=\"color: #00af00; text-decoration-color: #00af00\">0</span>]   │\n",
       "├─────────────────────┼───────────────────┼────────────┼───────────────────┤\n",
       "│ batch_normalization │ (<span style=\"color: #00d7ff; text-decoration-color: #00d7ff\">None</span>, <span style=\"color: #00af00; text-decoration-color: #00af00\">20</span>, <span style=\"color: #00af00; text-decoration-color: #00af00\">128</span>)   │        <span style=\"color: #00af00; text-decoration-color: #00af00\">512</span> │ conv1d[<span style=\"color: #00af00; text-decoration-color: #00af00\">0</span>][<span style=\"color: #00af00; text-decoration-color: #00af00\">0</span>]      │\n",
       "│ (<span style=\"color: #0087ff; text-decoration-color: #0087ff\">BatchNormalizatio…</span> │                   │            │                   │\n",
       "├─────────────────────┼───────────────────┼────────────┼───────────────────┤\n",
       "│ max_pooling1d       │ (<span style=\"color: #00d7ff; text-decoration-color: #00d7ff\">None</span>, <span style=\"color: #00af00; text-decoration-color: #00af00\">10</span>, <span style=\"color: #00af00; text-decoration-color: #00af00\">128</span>)   │          <span style=\"color: #00af00; text-decoration-color: #00af00\">0</span> │ batch_normalizat… │\n",
       "│ (<span style=\"color: #0087ff; text-decoration-color: #0087ff\">MaxPooling1D</span>)      │                   │            │                   │\n",
       "├─────────────────────┼───────────────────┼────────────┼───────────────────┤\n",
       "│ conv1d_1 (<span style=\"color: #0087ff; text-decoration-color: #0087ff\">Conv1D</span>)   │ (<span style=\"color: #00d7ff; text-decoration-color: #00d7ff\">None</span>, <span style=\"color: #00af00; text-decoration-color: #00af00\">10</span>, <span style=\"color: #00af00; text-decoration-color: #00af00\">128</span>)   │     <span style=\"color: #00af00; text-decoration-color: #00af00\">82,048</span> │ max_pooling1d[<span style=\"color: #00af00; text-decoration-color: #00af00\">0</span>]… │\n",
       "├─────────────────────┼───────────────────┼────────────┼───────────────────┤\n",
       "│ batch_normalizatio… │ (<span style=\"color: #00d7ff; text-decoration-color: #00d7ff\">None</span>, <span style=\"color: #00af00; text-decoration-color: #00af00\">10</span>, <span style=\"color: #00af00; text-decoration-color: #00af00\">128</span>)   │        <span style=\"color: #00af00; text-decoration-color: #00af00\">512</span> │ conv1d_1[<span style=\"color: #00af00; text-decoration-color: #00af00\">0</span>][<span style=\"color: #00af00; text-decoration-color: #00af00\">0</span>]    │\n",
       "│ (<span style=\"color: #0087ff; text-decoration-color: #0087ff\">BatchNormalizatio…</span> │                   │            │                   │\n",
       "├─────────────────────┼───────────────────┼────────────┼───────────────────┤\n",
       "│ max_pooling1d_1     │ (<span style=\"color: #00d7ff; text-decoration-color: #00d7ff\">None</span>, <span style=\"color: #00af00; text-decoration-color: #00af00\">5</span>, <span style=\"color: #00af00; text-decoration-color: #00af00\">128</span>)    │          <span style=\"color: #00af00; text-decoration-color: #00af00\">0</span> │ batch_normalizat… │\n",
       "│ (<span style=\"color: #0087ff; text-decoration-color: #0087ff\">MaxPooling1D</span>)      │                   │            │                   │\n",
       "├─────────────────────┼───────────────────┼────────────┼───────────────────┤\n",
       "│ bidirectional       │ (<span style=\"color: #00d7ff; text-decoration-color: #00d7ff\">None</span>, <span style=\"color: #00af00; text-decoration-color: #00af00\">5</span>, <span style=\"color: #00af00; text-decoration-color: #00af00\">128</span>)    │     <span style=\"color: #00af00; text-decoration-color: #00af00\">98,816</span> │ max_pooling1d_1[<span style=\"color: #00af00; text-decoration-color: #00af00\">…</span> │\n",
       "│ (<span style=\"color: #0087ff; text-decoration-color: #0087ff\">Bidirectional</span>)     │                   │            │                   │\n",
       "├─────────────────────┼───────────────────┼────────────┼───────────────────┤\n",
       "│ bidirectional_1     │ (<span style=\"color: #00d7ff; text-decoration-color: #00d7ff\">None</span>, <span style=\"color: #00af00; text-decoration-color: #00af00\">64</span>)        │     <span style=\"color: #00af00; text-decoration-color: #00af00\">41,216</span> │ bidirectional[<span style=\"color: #00af00; text-decoration-color: #00af00\">0</span>]… │\n",
       "│ (<span style=\"color: #0087ff; text-decoration-color: #0087ff\">Bidirectional</span>)     │                   │            │                   │\n",
       "├─────────────────────┼───────────────────┼────────────┼───────────────────┤\n",
       "│ dropout (<span style=\"color: #0087ff; text-decoration-color: #0087ff\">Dropout</span>)   │ (<span style=\"color: #00d7ff; text-decoration-color: #00d7ff\">None</span>, <span style=\"color: #00af00; text-decoration-color: #00af00\">64</span>)        │          <span style=\"color: #00af00; text-decoration-color: #00af00\">0</span> │ bidirectional_1[<span style=\"color: #00af00; text-decoration-color: #00af00\">…</span> │\n",
       "├─────────────────────┼───────────────────┼────────────┼───────────────────┤\n",
       "│ dense (<span style=\"color: #0087ff; text-decoration-color: #0087ff\">Dense</span>)       │ (<span style=\"color: #00d7ff; text-decoration-color: #00d7ff\">None</span>, <span style=\"color: #00af00; text-decoration-color: #00af00\">64</span>)        │      <span style=\"color: #00af00; text-decoration-color: #00af00\">4,160</span> │ dropout[<span style=\"color: #00af00; text-decoration-color: #00af00\">0</span>][<span style=\"color: #00af00; text-decoration-color: #00af00\">0</span>]     │\n",
       "├─────────────────────┼───────────────────┼────────────┼───────────────────┤\n",
       "│ dense_1 (<span style=\"color: #0087ff; text-decoration-color: #0087ff\">Dense</span>)     │ (<span style=\"color: #00d7ff; text-decoration-color: #00d7ff\">None</span>, <span style=\"color: #00af00; text-decoration-color: #00af00\">64</span>)        │      <span style=\"color: #00af00; text-decoration-color: #00af00\">4,160</span> │ dropout[<span style=\"color: #00af00; text-decoration-color: #00af00\">0</span>][<span style=\"color: #00af00; text-decoration-color: #00af00\">0</span>]     │\n",
       "├─────────────────────┼───────────────────┼────────────┼───────────────────┤\n",
       "│ dropout_1 (<span style=\"color: #0087ff; text-decoration-color: #0087ff\">Dropout</span>) │ (<span style=\"color: #00d7ff; text-decoration-color: #00d7ff\">None</span>, <span style=\"color: #00af00; text-decoration-color: #00af00\">64</span>)        │          <span style=\"color: #00af00; text-decoration-color: #00af00\">0</span> │ dense[<span style=\"color: #00af00; text-decoration-color: #00af00\">0</span>][<span style=\"color: #00af00; text-decoration-color: #00af00\">0</span>]       │\n",
       "├─────────────────────┼───────────────────┼────────────┼───────────────────┤\n",
       "│ dropout_2 (<span style=\"color: #0087ff; text-decoration-color: #0087ff\">Dropout</span>) │ (<span style=\"color: #00d7ff; text-decoration-color: #00d7ff\">None</span>, <span style=\"color: #00af00; text-decoration-color: #00af00\">64</span>)        │          <span style=\"color: #00af00; text-decoration-color: #00af00\">0</span> │ dense_1[<span style=\"color: #00af00; text-decoration-color: #00af00\">0</span>][<span style=\"color: #00af00; text-decoration-color: #00af00\">0</span>]     │\n",
       "├─────────────────────┼───────────────────┼────────────┼───────────────────┤\n",
       "│ att_output (<span style=\"color: #0087ff; text-decoration-color: #0087ff\">Dense</span>)  │ (<span style=\"color: #00d7ff; text-decoration-color: #00d7ff\">None</span>, <span style=\"color: #00af00; text-decoration-color: #00af00\">3</span>)         │        <span style=\"color: #00af00; text-decoration-color: #00af00\">195</span> │ dropout_1[<span style=\"color: #00af00; text-decoration-color: #00af00\">0</span>][<span style=\"color: #00af00; text-decoration-color: #00af00\">0</span>]   │\n",
       "├─────────────────────┼───────────────────┼────────────┼───────────────────┤\n",
       "│ rel_output (<span style=\"color: #0087ff; text-decoration-color: #0087ff\">Dense</span>)  │ (<span style=\"color: #00d7ff; text-decoration-color: #00d7ff\">None</span>, <span style=\"color: #00af00; text-decoration-color: #00af00\">3</span>)         │        <span style=\"color: #00af00; text-decoration-color: #00af00\">195</span> │ dropout_2[<span style=\"color: #00af00; text-decoration-color: #00af00\">0</span>][<span style=\"color: #00af00; text-decoration-color: #00af00\">0</span>]   │\n",
       "└─────────────────────┴───────────────────┴────────────┴───────────────────┘\n",
       "</pre>\n"
      ],
      "text/plain": [
       "┏━━━━━━━━━━━━━━━━━━━━━┳━━━━━━━━━━━━━━━━━━━┳━━━━━━━━━━━━┳━━━━━━━━━━━━━━━━━━━┓\n",
       "┃\u001b[1m \u001b[0m\u001b[1mLayer (type)       \u001b[0m\u001b[1m \u001b[0m┃\u001b[1m \u001b[0m\u001b[1mOutput Shape     \u001b[0m\u001b[1m \u001b[0m┃\u001b[1m \u001b[0m\u001b[1m   Param #\u001b[0m\u001b[1m \u001b[0m┃\u001b[1m \u001b[0m\u001b[1mConnected to     \u001b[0m\u001b[1m \u001b[0m┃\n",
       "┡━━━━━━━━━━━━━━━━━━━━━╇━━━━━━━━━━━━━━━━━━━╇━━━━━━━━━━━━╇━━━━━━━━━━━━━━━━━━━┩\n",
       "│ eeg_input           │ (\u001b[38;5;45mNone\u001b[0m, \u001b[38;5;34m20\u001b[0m, \u001b[38;5;34m66\u001b[0m)    │          \u001b[38;5;34m0\u001b[0m │ -                 │\n",
       "│ (\u001b[38;5;33mInputLayer\u001b[0m)        │                   │            │                   │\n",
       "├─────────────────────┼───────────────────┼────────────┼───────────────────┤\n",
       "│ conv1d (\u001b[38;5;33mConv1D\u001b[0m)     │ (\u001b[38;5;45mNone\u001b[0m, \u001b[38;5;34m20\u001b[0m, \u001b[38;5;34m128\u001b[0m)   │     \u001b[38;5;34m59,264\u001b[0m │ eeg_input[\u001b[38;5;34m0\u001b[0m][\u001b[38;5;34m0\u001b[0m]   │\n",
       "├─────────────────────┼───────────────────┼────────────┼───────────────────┤\n",
       "│ batch_normalization │ (\u001b[38;5;45mNone\u001b[0m, \u001b[38;5;34m20\u001b[0m, \u001b[38;5;34m128\u001b[0m)   │        \u001b[38;5;34m512\u001b[0m │ conv1d[\u001b[38;5;34m0\u001b[0m][\u001b[38;5;34m0\u001b[0m]      │\n",
       "│ (\u001b[38;5;33mBatchNormalizatio…\u001b[0m │                   │            │                   │\n",
       "├─────────────────────┼───────────────────┼────────────┼───────────────────┤\n",
       "│ max_pooling1d       │ (\u001b[38;5;45mNone\u001b[0m, \u001b[38;5;34m10\u001b[0m, \u001b[38;5;34m128\u001b[0m)   │          \u001b[38;5;34m0\u001b[0m │ batch_normalizat… │\n",
       "│ (\u001b[38;5;33mMaxPooling1D\u001b[0m)      │                   │            │                   │\n",
       "├─────────────────────┼───────────────────┼────────────┼───────────────────┤\n",
       "│ conv1d_1 (\u001b[38;5;33mConv1D\u001b[0m)   │ (\u001b[38;5;45mNone\u001b[0m, \u001b[38;5;34m10\u001b[0m, \u001b[38;5;34m128\u001b[0m)   │     \u001b[38;5;34m82,048\u001b[0m │ max_pooling1d[\u001b[38;5;34m0\u001b[0m]… │\n",
       "├─────────────────────┼───────────────────┼────────────┼───────────────────┤\n",
       "│ batch_normalizatio… │ (\u001b[38;5;45mNone\u001b[0m, \u001b[38;5;34m10\u001b[0m, \u001b[38;5;34m128\u001b[0m)   │        \u001b[38;5;34m512\u001b[0m │ conv1d_1[\u001b[38;5;34m0\u001b[0m][\u001b[38;5;34m0\u001b[0m]    │\n",
       "│ (\u001b[38;5;33mBatchNormalizatio…\u001b[0m │                   │            │                   │\n",
       "├─────────────────────┼───────────────────┼────────────┼───────────────────┤\n",
       "│ max_pooling1d_1     │ (\u001b[38;5;45mNone\u001b[0m, \u001b[38;5;34m5\u001b[0m, \u001b[38;5;34m128\u001b[0m)    │          \u001b[38;5;34m0\u001b[0m │ batch_normalizat… │\n",
       "│ (\u001b[38;5;33mMaxPooling1D\u001b[0m)      │                   │            │                   │\n",
       "├─────────────────────┼───────────────────┼────────────┼───────────────────┤\n",
       "│ bidirectional       │ (\u001b[38;5;45mNone\u001b[0m, \u001b[38;5;34m5\u001b[0m, \u001b[38;5;34m128\u001b[0m)    │     \u001b[38;5;34m98,816\u001b[0m │ max_pooling1d_1[\u001b[38;5;34m…\u001b[0m │\n",
       "│ (\u001b[38;5;33mBidirectional\u001b[0m)     │                   │            │                   │\n",
       "├─────────────────────┼───────────────────┼────────────┼───────────────────┤\n",
       "│ bidirectional_1     │ (\u001b[38;5;45mNone\u001b[0m, \u001b[38;5;34m64\u001b[0m)        │     \u001b[38;5;34m41,216\u001b[0m │ bidirectional[\u001b[38;5;34m0\u001b[0m]… │\n",
       "│ (\u001b[38;5;33mBidirectional\u001b[0m)     │                   │            │                   │\n",
       "├─────────────────────┼───────────────────┼────────────┼───────────────────┤\n",
       "│ dropout (\u001b[38;5;33mDropout\u001b[0m)   │ (\u001b[38;5;45mNone\u001b[0m, \u001b[38;5;34m64\u001b[0m)        │          \u001b[38;5;34m0\u001b[0m │ bidirectional_1[\u001b[38;5;34m…\u001b[0m │\n",
       "├─────────────────────┼───────────────────┼────────────┼───────────────────┤\n",
       "│ dense (\u001b[38;5;33mDense\u001b[0m)       │ (\u001b[38;5;45mNone\u001b[0m, \u001b[38;5;34m64\u001b[0m)        │      \u001b[38;5;34m4,160\u001b[0m │ dropout[\u001b[38;5;34m0\u001b[0m][\u001b[38;5;34m0\u001b[0m]     │\n",
       "├─────────────────────┼───────────────────┼────────────┼───────────────────┤\n",
       "│ dense_1 (\u001b[38;5;33mDense\u001b[0m)     │ (\u001b[38;5;45mNone\u001b[0m, \u001b[38;5;34m64\u001b[0m)        │      \u001b[38;5;34m4,160\u001b[0m │ dropout[\u001b[38;5;34m0\u001b[0m][\u001b[38;5;34m0\u001b[0m]     │\n",
       "├─────────────────────┼───────────────────┼────────────┼───────────────────┤\n",
       "│ dropout_1 (\u001b[38;5;33mDropout\u001b[0m) │ (\u001b[38;5;45mNone\u001b[0m, \u001b[38;5;34m64\u001b[0m)        │          \u001b[38;5;34m0\u001b[0m │ dense[\u001b[38;5;34m0\u001b[0m][\u001b[38;5;34m0\u001b[0m]       │\n",
       "├─────────────────────┼───────────────────┼────────────┼───────────────────┤\n",
       "│ dropout_2 (\u001b[38;5;33mDropout\u001b[0m) │ (\u001b[38;5;45mNone\u001b[0m, \u001b[38;5;34m64\u001b[0m)        │          \u001b[38;5;34m0\u001b[0m │ dense_1[\u001b[38;5;34m0\u001b[0m][\u001b[38;5;34m0\u001b[0m]     │\n",
       "├─────────────────────┼───────────────────┼────────────┼───────────────────┤\n",
       "│ att_output (\u001b[38;5;33mDense\u001b[0m)  │ (\u001b[38;5;45mNone\u001b[0m, \u001b[38;5;34m3\u001b[0m)         │        \u001b[38;5;34m195\u001b[0m │ dropout_1[\u001b[38;5;34m0\u001b[0m][\u001b[38;5;34m0\u001b[0m]   │\n",
       "├─────────────────────┼───────────────────┼────────────┼───────────────────┤\n",
       "│ rel_output (\u001b[38;5;33mDense\u001b[0m)  │ (\u001b[38;5;45mNone\u001b[0m, \u001b[38;5;34m3\u001b[0m)         │        \u001b[38;5;34m195\u001b[0m │ dropout_2[\u001b[38;5;34m0\u001b[0m][\u001b[38;5;34m0\u001b[0m]   │\n",
       "└─────────────────────┴───────────────────┴────────────┴───────────────────┘\n"
      ]
     },
     "metadata": {},
     "output_type": "display_data"
    },
    {
     "data": {
      "text/html": [
       "<pre style=\"white-space:pre;overflow-x:auto;line-height:normal;font-family:Menlo,'DejaVu Sans Mono',consolas,'Courier New',monospace\"><span style=\"font-weight: bold\"> Total params: </span><span style=\"color: #00af00; text-decoration-color: #00af00\">291,078</span> (1.11 MB)\n",
       "</pre>\n"
      ],
      "text/plain": [
       "\u001b[1m Total params: \u001b[0m\u001b[38;5;34m291,078\u001b[0m (1.11 MB)\n"
      ]
     },
     "metadata": {},
     "output_type": "display_data"
    },
    {
     "data": {
      "text/html": [
       "<pre style=\"white-space:pre;overflow-x:auto;line-height:normal;font-family:Menlo,'DejaVu Sans Mono',consolas,'Courier New',monospace\"><span style=\"font-weight: bold\"> Trainable params: </span><span style=\"color: #00af00; text-decoration-color: #00af00\">290,566</span> (1.11 MB)\n",
       "</pre>\n"
      ],
      "text/plain": [
       "\u001b[1m Trainable params: \u001b[0m\u001b[38;5;34m290,566\u001b[0m (1.11 MB)\n"
      ]
     },
     "metadata": {},
     "output_type": "display_data"
    },
    {
     "data": {
      "text/html": [
       "<pre style=\"white-space:pre;overflow-x:auto;line-height:normal;font-family:Menlo,'DejaVu Sans Mono',consolas,'Courier New',monospace\"><span style=\"font-weight: bold\"> Non-trainable params: </span><span style=\"color: #00af00; text-decoration-color: #00af00\">512</span> (2.00 KB)\n",
       "</pre>\n"
      ],
      "text/plain": [
       "\u001b[1m Non-trainable params: \u001b[0m\u001b[38;5;34m512\u001b[0m (2.00 KB)\n"
      ]
     },
     "metadata": {},
     "output_type": "display_data"
    }
   ],
   "source": [
    "import tensorflow as tf\n",
    "from tensorflow.keras.layers import Input, Conv1D, MaxPooling1D, Bidirectional, LSTM, Dense, Dropout, BatchNormalization\n",
    "from tensorflow.keras.models import Model\n",
    "\n",
    "input_layer = Input(shape=(X.shape[1], X.shape[2]), name=\"eeg_input\")\n",
    "x = Conv1D(128, 7, activation=\"relu\", padding=\"same\")(input_layer)\n",
    "x = BatchNormalization()(x)\n",
    "x = MaxPooling1D(2)(x)\n",
    "x = Conv1D(128, 5, activation=\"relu\", padding=\"same\")(x)\n",
    "x = BatchNormalization()(x)\n",
    "x = MaxPooling1D(2)(x)\n",
    "x = Bidirectional(LSTM(64, return_sequences=True, dropout=0.3, recurrent_dropout=0.1))(x)\n",
    "x = Bidirectional(LSTM(32, return_sequences=False, dropout=0.3, recurrent_dropout=0.1))(x)\n",
    "x = Dropout(0.5)(x)\n",
    "\n",
    "# Output heads\n",
    "att_out = Dense(64, activation=\"relu\")(x)\n",
    "att_out = Dropout(0.2)(att_out)\n",
    "att_out = Dense(y_att_oh.shape[1], activation=\"softmax\", name=\"att_output\")(att_out)\n",
    "\n",
    "rel_out = Dense(64, activation=\"relu\")(x)\n",
    "rel_out = Dropout(0.2)(rel_out)\n",
    "rel_out = Dense(y_rel_oh.shape[1], activation=\"softmax\", name=\"rel_output\")(rel_out)\n",
    "\n",
    "model = Model(inputs=input_layer, outputs=[att_out, rel_out])\n",
    "model.compile(\n",
    "    optimizer=tf.keras.optimizers.Adam(learning_rate=0.0005),\n",
    "    loss={\"att_output\": \"categorical_crossentropy\", \"rel_output\": \"categorical_crossentropy\"},\n",
    "    metrics={\"att_output\": \"accuracy\", \"rel_output\": \"accuracy\"}\n",
    ")\n",
    "model.summary()\n"
   ]
  },
  {
   "cell_type": "code",
   "execution_count": 7,
   "id": "37b44e6e",
   "metadata": {},
   "outputs": [
    {
     "name": "stdout",
     "output_type": "stream",
     "text": [
      "Epoch 1/80\n",
      "\u001b[1m37/37\u001b[0m \u001b[32m━━━━━━━━━━━━━━━━━━━━\u001b[0m\u001b[37m\u001b[0m \u001b[1m20s\u001b[0m 87ms/step - att_output_accuracy: 0.4389 - att_output_loss: 1.0628 - loss: 2.0145 - rel_output_accuracy: 0.6237 - rel_output_loss: 0.9517 - val_att_output_accuracy: 0.5516 - val_att_output_loss: 1.0290 - val_loss: 1.8089 - val_rel_output_accuracy: 0.7208 - val_rel_output_loss: 0.7820 - learning_rate: 5.0000e-04\n",
      "Epoch 2/80\n",
      "\u001b[1m37/37\u001b[0m \u001b[32m━━━━━━━━━━━━━━━━━━━━\u001b[0m\u001b[37m\u001b[0m \u001b[1m1s\u001b[0m 29ms/step - att_output_accuracy: 0.5563 - att_output_loss: 0.9657 - loss: 1.7338 - rel_output_accuracy: 0.7318 - rel_output_loss: 0.7681 - val_att_output_accuracy: 0.5431 - val_att_output_loss: 0.9909 - val_loss: 1.7584 - val_rel_output_accuracy: 0.7208 - val_rel_output_loss: 0.7690 - learning_rate: 5.0000e-04\n",
      "Epoch 3/80\n",
      "\u001b[1m37/37\u001b[0m \u001b[32m━━━━━━━━━━━━━━━━━━━━\u001b[0m\u001b[37m\u001b[0m \u001b[1m1s\u001b[0m 30ms/step - att_output_accuracy: 0.5571 - att_output_loss: 0.9374 - loss: 1.7108 - rel_output_accuracy: 0.7084 - rel_output_loss: 0.7734 - val_att_output_accuracy: 0.5533 - val_att_output_loss: 0.9213 - val_loss: 1.6665 - val_rel_output_accuracy: 0.7208 - val_rel_output_loss: 0.7484 - learning_rate: 5.0000e-04\n",
      "Epoch 4/80\n",
      "\u001b[1m37/37\u001b[0m \u001b[32m━━━━━━━━━━━━━━━━━━━━\u001b[0m\u001b[37m\u001b[0m \u001b[1m1s\u001b[0m 28ms/step - att_output_accuracy: 0.5563 - att_output_loss: 0.9007 - loss: 1.6153 - rel_output_accuracy: 0.7237 - rel_output_loss: 0.7146 - val_att_output_accuracy: 0.5922 - val_att_output_loss: 0.8858 - val_loss: 1.5860 - val_rel_output_accuracy: 0.7208 - val_rel_output_loss: 0.7031 - learning_rate: 5.0000e-04\n",
      "Epoch 5/80\n",
      "\u001b[1m37/37\u001b[0m \u001b[32m━━━━━━━━━━━━━━━━━━━━\u001b[0m\u001b[37m\u001b[0m \u001b[1m1s\u001b[0m 33ms/step - att_output_accuracy: 0.5951 - att_output_loss: 0.8620 - loss: 1.5183 - rel_output_accuracy: 0.7273 - rel_output_loss: 0.6563 - val_att_output_accuracy: 0.5990 - val_att_output_loss: 0.8424 - val_loss: 1.5418 - val_rel_output_accuracy: 0.7208 - val_rel_output_loss: 0.6912 - learning_rate: 5.0000e-04\n",
      "Epoch 6/80\n",
      "\u001b[1m37/37\u001b[0m \u001b[32m━━━━━━━━━━━━━━━━━━━━\u001b[0m\u001b[37m\u001b[0m \u001b[1m1s\u001b[0m 30ms/step - att_output_accuracy: 0.6468 - att_output_loss: 0.7843 - loss: 1.3928 - rel_output_accuracy: 0.7487 - rel_output_loss: 0.6085 - val_att_output_accuracy: 0.5787 - val_att_output_loss: 0.8939 - val_loss: 1.6910 - val_rel_output_accuracy: 0.7225 - val_rel_output_loss: 0.7790 - learning_rate: 5.0000e-04\n",
      "Epoch 7/80\n",
      "\u001b[1m37/37\u001b[0m \u001b[32m━━━━━━━━━━━━━━━━━━━━\u001b[0m\u001b[37m\u001b[0m \u001b[1m1s\u001b[0m 31ms/step - att_output_accuracy: 0.7126 - att_output_loss: 0.6756 - loss: 1.2408 - rel_output_accuracy: 0.7663 - rel_output_loss: 0.5653 - val_att_output_accuracy: 0.6024 - val_att_output_loss: 0.7994 - val_loss: 1.4772 - val_rel_output_accuracy: 0.7496 - val_rel_output_loss: 0.6481 - learning_rate: 5.0000e-04\n",
      "Epoch 8/80\n",
      "\u001b[1m37/37\u001b[0m \u001b[32m━━━━━━━━━━━━━━━━━━━━\u001b[0m\u001b[37m\u001b[0m \u001b[1m1s\u001b[0m 27ms/step - att_output_accuracy: 0.7738 - att_output_loss: 0.5663 - loss: 1.0689 - rel_output_accuracy: 0.8082 - rel_output_loss: 0.5025 - val_att_output_accuracy: 0.5871 - val_att_output_loss: 0.9526 - val_loss: 1.5940 - val_rel_output_accuracy: 0.7614 - val_rel_output_loss: 0.6251 - learning_rate: 5.0000e-04\n",
      "Epoch 9/80\n",
      "\u001b[1m37/37\u001b[0m \u001b[32m━━━━━━━━━━━━━━━━━━━━\u001b[0m\u001b[37m\u001b[0m \u001b[1m1s\u001b[0m 32ms/step - att_output_accuracy: 0.7934 - att_output_loss: 0.5034 - loss: 0.9209 - rel_output_accuracy: 0.8447 - rel_output_loss: 0.4175 - val_att_output_accuracy: 0.6650 - val_att_output_loss: 0.8483 - val_loss: 1.6592 - val_rel_output_accuracy: 0.7547 - val_rel_output_loss: 0.7552 - learning_rate: 5.0000e-04\n",
      "Epoch 10/80\n",
      "\u001b[1m37/37\u001b[0m \u001b[32m━━━━━━━━━━━━━━━━━━━━\u001b[0m\u001b[37m\u001b[0m \u001b[1m1s\u001b[0m 26ms/step - att_output_accuracy: 0.8217 - att_output_loss: 0.4514 - loss: 0.7894 - rel_output_accuracy: 0.8726 - rel_output_loss: 0.3380 - val_att_output_accuracy: 0.7360 - val_att_output_loss: 0.6349 - val_loss: 1.1780 - val_rel_output_accuracy: 0.7970 - val_rel_output_loss: 0.5125 - learning_rate: 5.0000e-04\n",
      "Epoch 11/80\n",
      "\u001b[1m37/37\u001b[0m \u001b[32m━━━━━━━━━━━━━━━━━━━━\u001b[0m\u001b[37m\u001b[0m \u001b[1m1s\u001b[0m 25ms/step - att_output_accuracy: 0.8589 - att_output_loss: 0.3808 - loss: 0.7200 - rel_output_accuracy: 0.8732 - rel_output_loss: 0.3392 - val_att_output_accuracy: 0.7868 - val_att_output_loss: 0.6637 - val_loss: 1.2111 - val_rel_output_accuracy: 0.8376 - val_rel_output_loss: 0.5020 - learning_rate: 5.0000e-04\n",
      "Epoch 12/80\n",
      "\u001b[1m37/37\u001b[0m \u001b[32m━━━━━━━━━━━━━━━━━━━━\u001b[0m\u001b[37m\u001b[0m \u001b[1m1s\u001b[0m 28ms/step - att_output_accuracy: 0.8752 - att_output_loss: 0.3388 - loss: 0.6233 - rel_output_accuracy: 0.9017 - rel_output_loss: 0.2845 - val_att_output_accuracy: 0.8037 - val_att_output_loss: 0.4591 - val_loss: 0.8880 - val_rel_output_accuracy: 0.8409 - val_rel_output_loss: 0.3995 - learning_rate: 5.0000e-04\n",
      "Epoch 13/80\n",
      "\u001b[1m37/37\u001b[0m \u001b[32m━━━━━━━━━━━━━━━━━━━━\u001b[0m\u001b[37m\u001b[0m \u001b[1m1s\u001b[0m 24ms/step - att_output_accuracy: 0.8883 - att_output_loss: 0.3049 - loss: 0.5612 - rel_output_accuracy: 0.9084 - rel_output_loss: 0.2563 - val_att_output_accuracy: 0.8173 - val_att_output_loss: 0.4795 - val_loss: 0.9409 - val_rel_output_accuracy: 0.8359 - val_rel_output_loss: 0.4240 - learning_rate: 5.0000e-04\n",
      "Epoch 14/80\n",
      "\u001b[1m37/37\u001b[0m \u001b[32m━━━━━━━━━━━━━━━━━━━━\u001b[0m\u001b[37m\u001b[0m \u001b[1m1s\u001b[0m 25ms/step - att_output_accuracy: 0.9050 - att_output_loss: 0.2688 - loss: 0.5071 - rel_output_accuracy: 0.9200 - rel_output_loss: 0.2383 - val_att_output_accuracy: 0.8223 - val_att_output_loss: 0.4377 - val_loss: 0.8834 - val_rel_output_accuracy: 0.8460 - val_rel_output_loss: 0.4082 - learning_rate: 5.0000e-04\n",
      "Epoch 15/80\n",
      "\u001b[1m37/37\u001b[0m \u001b[32m━━━━━━━━━━━━━━━━━━━━\u001b[0m\u001b[37m\u001b[0m \u001b[1m1s\u001b[0m 26ms/step - att_output_accuracy: 0.9199 - att_output_loss: 0.2341 - loss: 0.4283 - rel_output_accuracy: 0.9337 - rel_output_loss: 0.1942 - val_att_output_accuracy: 0.8020 - val_att_output_loss: 0.5564 - val_loss: 1.0264 - val_rel_output_accuracy: 0.8528 - val_rel_output_loss: 0.4222 - learning_rate: 5.0000e-04\n",
      "Epoch 16/80\n",
      "\u001b[1m37/37\u001b[0m \u001b[32m━━━━━━━━━━━━━━━━━━━━\u001b[0m\u001b[37m\u001b[0m \u001b[1m1s\u001b[0m 27ms/step - att_output_accuracy: 0.9256 - att_output_loss: 0.2125 - loss: 0.4080 - rel_output_accuracy: 0.9330 - rel_output_loss: 0.1955 - val_att_output_accuracy: 0.8376 - val_att_output_loss: 0.4770 - val_loss: 0.9015 - val_rel_output_accuracy: 0.8393 - val_rel_output_loss: 0.3955 - learning_rate: 5.0000e-04\n",
      "Epoch 17/80\n",
      "\u001b[1m37/37\u001b[0m \u001b[32m━━━━━━━━━━━━━━━━━━━━\u001b[0m\u001b[37m\u001b[0m \u001b[1m1s\u001b[0m 25ms/step - att_output_accuracy: 0.9344 - att_output_loss: 0.1719 - loss: 0.3364 - rel_output_accuracy: 0.9450 - rel_output_loss: 0.1646 - val_att_output_accuracy: 0.8460 - val_att_output_loss: 0.4623 - val_loss: 1.0389 - val_rel_output_accuracy: 0.8274 - val_rel_output_loss: 0.5531 - learning_rate: 5.0000e-04\n",
      "Epoch 18/80\n",
      "\u001b[1m37/37\u001b[0m \u001b[32m━━━━━━━━━━━━━━━━━━━━\u001b[0m\u001b[37m\u001b[0m \u001b[1m1s\u001b[0m 26ms/step - att_output_accuracy: 0.9364 - att_output_loss: 0.1812 - loss: 0.3545 - rel_output_accuracy: 0.9472 - rel_output_loss: 0.1733 - val_att_output_accuracy: 0.7580 - val_att_output_loss: 0.6732 - val_loss: 1.4841 - val_rel_output_accuracy: 0.7547 - val_rel_output_loss: 0.8148 - learning_rate: 5.0000e-04\n",
      "Epoch 19/80\n",
      "\u001b[1m37/37\u001b[0m \u001b[32m━━━━━━━━━━━━━━━━━━━━\u001b[0m\u001b[37m\u001b[0m \u001b[1m1s\u001b[0m 32ms/step - att_output_accuracy: 0.9252 - att_output_loss: 0.1836 - loss: 0.3349 - rel_output_accuracy: 0.9504 - rel_output_loss: 0.1513 - val_att_output_accuracy: 0.8646 - val_att_output_loss: 0.4306 - val_loss: 0.8369 - val_rel_output_accuracy: 0.8782 - val_rel_output_loss: 0.3554 - learning_rate: 3.5000e-04\n",
      "Epoch 20/80\n",
      "\u001b[1m37/37\u001b[0m \u001b[32m━━━━━━━━━━━━━━━━━━━━\u001b[0m\u001b[37m\u001b[0m \u001b[1m1s\u001b[0m 30ms/step - att_output_accuracy: 0.9463 - att_output_loss: 0.1384 - loss: 0.2563 - rel_output_accuracy: 0.9650 - rel_output_loss: 0.1179 - val_att_output_accuracy: 0.8866 - val_att_output_loss: 0.3894 - val_loss: 0.7895 - val_rel_output_accuracy: 0.8985 - val_rel_output_loss: 0.3485 - learning_rate: 3.5000e-04\n",
      "Epoch 21/80\n",
      "\u001b[1m37/37\u001b[0m \u001b[32m━━━━━━━━━━━━━━━━━━━━\u001b[0m\u001b[37m\u001b[0m \u001b[1m1s\u001b[0m 36ms/step - att_output_accuracy: 0.9507 - att_output_loss: 0.1329 - loss: 0.2534 - rel_output_accuracy: 0.9582 - rel_output_loss: 0.1205 - val_att_output_accuracy: 0.8460 - val_att_output_loss: 0.5139 - val_loss: 0.9298 - val_rel_output_accuracy: 0.8900 - val_rel_output_loss: 0.3600 - learning_rate: 3.5000e-04\n",
      "Epoch 22/80\n",
      "\u001b[1m37/37\u001b[0m \u001b[32m━━━━━━━━━━━━━━━━━━━━\u001b[0m\u001b[37m\u001b[0m \u001b[1m1s\u001b[0m 34ms/step - att_output_accuracy: 0.9506 - att_output_loss: 0.1465 - loss: 0.2541 - rel_output_accuracy: 0.9643 - rel_output_loss: 0.1076 - val_att_output_accuracy: 0.8900 - val_att_output_loss: 0.4362 - val_loss: 0.9036 - val_rel_output_accuracy: 0.8883 - val_rel_output_loss: 0.4058 - learning_rate: 3.5000e-04\n",
      "Epoch 23/80\n",
      "\u001b[1m37/37\u001b[0m \u001b[32m━━━━━━━━━━━━━━━━━━━━\u001b[0m\u001b[37m\u001b[0m \u001b[1m1s\u001b[0m 32ms/step - att_output_accuracy: 0.9663 - att_output_loss: 0.1122 - loss: 0.2103 - rel_output_accuracy: 0.9702 - rel_output_loss: 0.0981 - val_att_output_accuracy: 0.9019 - val_att_output_loss: 0.4020 - val_loss: 0.7797 - val_rel_output_accuracy: 0.9069 - val_rel_output_loss: 0.3215 - learning_rate: 3.5000e-04\n",
      "Epoch 24/80\n",
      "\u001b[1m37/37\u001b[0m \u001b[32m━━━━━━━━━━━━━━━━━━━━\u001b[0m\u001b[37m\u001b[0m \u001b[1m1s\u001b[0m 30ms/step - att_output_accuracy: 0.9644 - att_output_loss: 0.1134 - loss: 0.2108 - rel_output_accuracy: 0.9666 - rel_output_loss: 0.0974 - val_att_output_accuracy: 0.8426 - val_att_output_loss: 0.5152 - val_loss: 0.9236 - val_rel_output_accuracy: 0.8866 - val_rel_output_loss: 0.3655 - learning_rate: 3.5000e-04\n",
      "Epoch 25/80\n",
      "\u001b[1m37/37\u001b[0m \u001b[32m━━━━━━━━━━━━━━━━━━━━\u001b[0m\u001b[37m\u001b[0m \u001b[1m1s\u001b[0m 24ms/step - att_output_accuracy: 0.9642 - att_output_loss: 0.1179 - loss: 0.1934 - rel_output_accuracy: 0.9765 - rel_output_loss: 0.0755 - val_att_output_accuracy: 0.8545 - val_att_output_loss: 0.4930 - val_loss: 0.9476 - val_rel_output_accuracy: 0.8934 - val_rel_output_loss: 0.3870 - learning_rate: 3.5000e-04\n",
      "Epoch 26/80\n",
      "\u001b[1m37/37\u001b[0m \u001b[32m━━━━━━━━━━━━━━━━━━━━\u001b[0m\u001b[37m\u001b[0m \u001b[1m1s\u001b[0m 26ms/step - att_output_accuracy: 0.9725 - att_output_loss: 0.0812 - loss: 0.1588 - rel_output_accuracy: 0.9717 - rel_output_loss: 0.0777 - val_att_output_accuracy: 0.8883 - val_att_output_loss: 0.4116 - val_loss: 0.8267 - val_rel_output_accuracy: 0.9019 - val_rel_output_loss: 0.3689 - learning_rate: 3.5000e-04\n",
      "Epoch 27/80\n",
      "\u001b[1m37/37\u001b[0m \u001b[32m━━━━━━━━━━━━━━━━━━━━\u001b[0m\u001b[37m\u001b[0m \u001b[1m1s\u001b[0m 25ms/step - att_output_accuracy: 0.9665 - att_output_loss: 0.1048 - loss: 0.1831 - rel_output_accuracy: 0.9745 - rel_output_loss: 0.0783 - val_att_output_accuracy: 0.8714 - val_att_output_loss: 0.4651 - val_loss: 0.9496 - val_rel_output_accuracy: 0.8900 - val_rel_output_loss: 0.4264 - learning_rate: 3.5000e-04\n",
      "Epoch 28/80\n",
      "\u001b[1m37/37\u001b[0m \u001b[32m━━━━━━━━━━━━━━━━━━━━\u001b[0m\u001b[37m\u001b[0m \u001b[1m1s\u001b[0m 27ms/step - att_output_accuracy: 0.9704 - att_output_loss: 0.1024 - loss: 0.1842 - rel_output_accuracy: 0.9714 - rel_output_loss: 0.0818 - val_att_output_accuracy: 0.9036 - val_att_output_loss: 0.4071 - val_loss: 0.7733 - val_rel_output_accuracy: 0.9052 - val_rel_output_loss: 0.3092 - learning_rate: 2.4500e-04\n",
      "Epoch 29/80\n",
      "\u001b[1m37/37\u001b[0m \u001b[32m━━━━━━━━━━━━━━━━━━━━\u001b[0m\u001b[37m\u001b[0m \u001b[1m1s\u001b[0m 25ms/step - att_output_accuracy: 0.9752 - att_output_loss: 0.0725 - loss: 0.1609 - rel_output_accuracy: 0.9701 - rel_output_loss: 0.0884 - val_att_output_accuracy: 0.9120 - val_att_output_loss: 0.3503 - val_loss: 0.7792 - val_rel_output_accuracy: 0.9002 - val_rel_output_loss: 0.3759 - learning_rate: 2.4500e-04\n",
      "Epoch 30/80\n",
      "\u001b[1m37/37\u001b[0m \u001b[32m━━━━━━━━━━━━━━━━━━━━\u001b[0m\u001b[37m\u001b[0m \u001b[1m1s\u001b[0m 27ms/step - att_output_accuracy: 0.9864 - att_output_loss: 0.0503 - loss: 0.1142 - rel_output_accuracy: 0.9799 - rel_output_loss: 0.0639 - val_att_output_accuracy: 0.9188 - val_att_output_loss: 0.3458 - val_loss: 0.7243 - val_rel_output_accuracy: 0.8985 - val_rel_output_loss: 0.3313 - learning_rate: 2.4500e-04\n",
      "Epoch 31/80\n",
      "\u001b[1m37/37\u001b[0m \u001b[32m━━━━━━━━━━━━━━━━━━━━\u001b[0m\u001b[37m\u001b[0m \u001b[1m1s\u001b[0m 27ms/step - att_output_accuracy: 0.9863 - att_output_loss: 0.0551 - loss: 0.1057 - rel_output_accuracy: 0.9825 - rel_output_loss: 0.0506 - val_att_output_accuracy: 0.9120 - val_att_output_loss: 0.3583 - val_loss: 0.7583 - val_rel_output_accuracy: 0.9103 - val_rel_output_loss: 0.3461 - learning_rate: 2.4500e-04\n",
      "Epoch 32/80\n",
      "\u001b[1m37/37\u001b[0m \u001b[32m━━━━━━━━━━━━━━━━━━━━\u001b[0m\u001b[37m\u001b[0m \u001b[1m1s\u001b[0m 30ms/step - att_output_accuracy: 0.9830 - att_output_loss: 0.0516 - loss: 0.1155 - rel_output_accuracy: 0.9739 - rel_output_loss: 0.0639 - val_att_output_accuracy: 0.8900 - val_att_output_loss: 0.4355 - val_loss: 0.9288 - val_rel_output_accuracy: 0.8900 - val_rel_output_loss: 0.4393 - learning_rate: 2.4500e-04\n",
      "Epoch 33/80\n",
      "\u001b[1m37/37\u001b[0m \u001b[32m━━━━━━━━━━━━━━━━━━━━\u001b[0m\u001b[37m\u001b[0m \u001b[1m1s\u001b[0m 33ms/step - att_output_accuracy: 0.9847 - att_output_loss: 0.0426 - loss: 0.0935 - rel_output_accuracy: 0.9813 - rel_output_loss: 0.0510 - val_att_output_accuracy: 0.9036 - val_att_output_loss: 0.3967 - val_loss: 0.8215 - val_rel_output_accuracy: 0.8985 - val_rel_output_loss: 0.3627 - learning_rate: 2.4500e-04\n",
      "Epoch 34/80\n",
      "\u001b[1m37/37\u001b[0m \u001b[32m━━━━━━━━━━━━━━━━━━━━\u001b[0m\u001b[37m\u001b[0m \u001b[1m1s\u001b[0m 31ms/step - att_output_accuracy: 0.9876 - att_output_loss: 0.0500 - loss: 0.0976 - rel_output_accuracy: 0.9874 - rel_output_loss: 0.0476 - val_att_output_accuracy: 0.8985 - val_att_output_loss: 0.3774 - val_loss: 0.7907 - val_rel_output_accuracy: 0.9086 - val_rel_output_loss: 0.3534 - learning_rate: 2.4500e-04\n",
      "Epoch 35/80\n",
      "\u001b[1m37/37\u001b[0m \u001b[32m━━━━━━━━━━━━━━━━━━━━\u001b[0m\u001b[37m\u001b[0m \u001b[1m1s\u001b[0m 33ms/step - att_output_accuracy: 0.9867 - att_output_loss: 0.0439 - loss: 0.0973 - rel_output_accuracy: 0.9817 - rel_output_loss: 0.0534 - val_att_output_accuracy: 0.9103 - val_att_output_loss: 0.3664 - val_loss: 0.7433 - val_rel_output_accuracy: 0.9154 - val_rel_output_loss: 0.3221 - learning_rate: 1.7150e-04\n",
      "Epoch 36/80\n",
      "\u001b[1m37/37\u001b[0m \u001b[32m━━━━━━━━━━━━━━━━━━━━\u001b[0m\u001b[37m\u001b[0m \u001b[1m1s\u001b[0m 31ms/step - att_output_accuracy: 0.9869 - att_output_loss: 0.0406 - loss: 0.0810 - rel_output_accuracy: 0.9852 - rel_output_loss: 0.0404 - val_att_output_accuracy: 0.8985 - val_att_output_loss: 0.4358 - val_loss: 0.8825 - val_rel_output_accuracy: 0.9137 - val_rel_output_loss: 0.3886 - learning_rate: 1.7150e-04\n",
      "Epoch 37/80\n",
      "\u001b[1m37/37\u001b[0m \u001b[32m━━━━━━━━━━━━━━━━━━━━\u001b[0m\u001b[37m\u001b[0m \u001b[1m1s\u001b[0m 31ms/step - att_output_accuracy: 0.9885 - att_output_loss: 0.0370 - loss: 0.0685 - rel_output_accuracy: 0.9926 - rel_output_loss: 0.0315 - val_att_output_accuracy: 0.9137 - val_att_output_loss: 0.4057 - val_loss: 0.8415 - val_rel_output_accuracy: 0.9103 - val_rel_output_loss: 0.3815 - learning_rate: 1.7150e-04\n",
      "Epoch 38/80\n",
      "\u001b[1m37/37\u001b[0m \u001b[32m━━━━━━━━━━━━━━━━━━━━\u001b[0m\u001b[37m\u001b[0m \u001b[1m1s\u001b[0m 33ms/step - att_output_accuracy: 0.9920 - att_output_loss: 0.0293 - loss: 0.0638 - rel_output_accuracy: 0.9901 - rel_output_loss: 0.0345 - val_att_output_accuracy: 0.9205 - val_att_output_loss: 0.3700 - val_loss: 0.7712 - val_rel_output_accuracy: 0.9069 - val_rel_output_loss: 0.3688 - learning_rate: 1.7150e-04\n",
      "Epoch 39/80\n",
      "\u001b[1m37/37\u001b[0m \u001b[32m━━━━━━━━━━━━━━━━━━━━\u001b[0m\u001b[37m\u001b[0m \u001b[1m1s\u001b[0m 26ms/step - att_output_accuracy: 0.9885 - att_output_loss: 0.0319 - loss: 0.0666 - rel_output_accuracy: 0.9864 - rel_output_loss: 0.0347 - val_att_output_accuracy: 0.9137 - val_att_output_loss: 0.3894 - val_loss: 0.8137 - val_rel_output_accuracy: 0.9052 - val_rel_output_loss: 0.3679 - learning_rate: 1.2005e-04\n",
      "Epoch 40/80\n",
      "\u001b[1m37/37\u001b[0m \u001b[32m━━━━━━━━━━━━━━━━━━━━\u001b[0m\u001b[37m\u001b[0m \u001b[1m1s\u001b[0m 33ms/step - att_output_accuracy: 0.9897 - att_output_loss: 0.0370 - loss: 0.0654 - rel_output_accuracy: 0.9912 - rel_output_loss: 0.0283 - val_att_output_accuracy: 0.8985 - val_att_output_loss: 0.4853 - val_loss: 0.9399 - val_rel_output_accuracy: 0.9120 - val_rel_output_loss: 0.4052 - learning_rate: 1.2005e-04\n",
      "Epoch 41/80\n",
      "\u001b[1m37/37\u001b[0m \u001b[32m━━━━━━━━━━━━━━━━━━━━\u001b[0m\u001b[37m\u001b[0m \u001b[1m1s\u001b[0m 37ms/step - att_output_accuracy: 0.9941 - att_output_loss: 0.0286 - loss: 0.0623 - rel_output_accuracy: 0.9905 - rel_output_loss: 0.0337 - val_att_output_accuracy: 0.8985 - val_att_output_loss: 0.5089 - val_loss: 1.0094 - val_rel_output_accuracy: 0.9069 - val_rel_output_loss: 0.4316 - learning_rate: 1.2005e-04\n",
      "Epoch 42/80\n",
      "\u001b[1m37/37\u001b[0m \u001b[32m━━━━━━━━━━━━━━━━━━━━\u001b[0m\u001b[37m\u001b[0m \u001b[1m1s\u001b[0m 37ms/step - att_output_accuracy: 0.9888 - att_output_loss: 0.0360 - loss: 0.0842 - rel_output_accuracy: 0.9835 - rel_output_loss: 0.0482 - val_att_output_accuracy: 0.9103 - val_att_output_loss: 0.4073 - val_loss: 0.8615 - val_rel_output_accuracy: 0.9019 - val_rel_output_loss: 0.4106 - learning_rate: 1.2005e-04\n"
     ]
    }
   ],
   "source": [
    "callbacks = [\n",
    "    tf.keras.callbacks.EarlyStopping(monitor=\"val_loss\", patience=12, restore_best_weights=True),\n",
    "    tf.keras.callbacks.ReduceLROnPlateau(monitor=\"val_loss\", factor=0.7, patience=4, min_lr=1e-5)\n",
    "]\n",
    "\n",
    "\n",
    "history = model.fit(\n",
    "    X_train, {\"att_output\": y_att_train, \"rel_output\": y_rel_train},\n",
    "    validation_data=(X_test, {\"att_output\": y_att_test, \"rel_output\": y_rel_test}),\n",
    "    epochs=80, batch_size=64, callbacks=callbacks\n",
    ")\n",
    "\n"
   ]
  },
  {
   "cell_type": "code",
   "execution_count": 8,
   "id": "c7d69423",
   "metadata": {},
   "outputs": [
    {
     "name": "stdout",
     "output_type": "stream",
     "text": [
      "\u001b[1m19/19\u001b[0m \u001b[32m━━━━━━━━━━━━━━━━━━━━\u001b[0m\u001b[37m\u001b[0m \u001b[1m4s\u001b[0m 94ms/step\n",
      "Attention Report:\n",
      "              precision    recall  f1-score   support\n",
      "\n",
      "        High       0.92      0.85      0.89       157\n",
      "         Low       0.91      0.94      0.92       108\n",
      "      Medium       0.92      0.94      0.93       326\n",
      "\n",
      "    accuracy                           0.92       591\n",
      "   macro avg       0.92      0.91      0.91       591\n",
      "weighted avg       0.92      0.92      0.92       591\n",
      "\n",
      "Relaxation Report:\n",
      "              precision    recall  f1-score   support\n",
      "\n",
      "        High       0.80      0.85      0.82       113\n",
      "         Low       0.79      0.79      0.79        52\n",
      "      Medium       0.94      0.92      0.93       426\n",
      "\n",
      "    accuracy                           0.90       591\n",
      "   macro avg       0.84      0.85      0.85       591\n",
      "weighted avg       0.90      0.90      0.90       591\n",
      "\n"
     ]
    },
    {
     "data": {
      "image/png": "[encoded data removed]",
      "text/plain": [
       "<Figure size 1000x400 with 4 Axes>"
      ]
     },
     "metadata": {},
     "output_type": "display_data"
    }
   ],
   "source": [
    "from sklearn.metrics import classification_report, confusion_matrix\n",
    "import seaborn as sns\n",
    "import matplotlib.pyplot as plt\n",
    "\n",
    "# Predict\n",
    "att_pred_probs, rel_pred_probs = model.predict(X_test)\n",
    "att_pred = np.argmax(att_pred_probs, axis=1)\n",
    "rel_pred = np.argmax(rel_pred_probs, axis=1)\n",
    "y_att_true = np.argmax(y_att_test, axis=1)\n",
    "y_rel_true = np.argmax(y_rel_test, axis=1)\n",
    "\n",
    "print(\"Attention Report:\")\n",
    "print(classification_report(y_att_true, att_pred, target_names=le_att.classes_))\n",
    "print(\"Relaxation Report:\")\n",
    "print(classification_report(y_rel_true, rel_pred, target_names=le_rel.classes_))\n",
    "\n",
    "# Confusion Matrices\n",
    "plt.figure(figsize=(10,4))\n",
    "plt.subplot(1,2,1)\n",
    "sns.heatmap(confusion_matrix(y_att_true, att_pred), annot=True, fmt='d', cmap=\"Blues\",\n",
    "            xticklabels=le_att.classes_, yticklabels=le_att.classes_)\n",
    "plt.title(\"Confusion Matrix: Attention\")\n",
    "plt.xlabel(\"Predicted\")\n",
    "plt.ylabel(\"True\")\n",
    "\n",
    "plt.subplot(1,2,2)\n",
    "sns.heatmap(confusion_matrix(y_rel_true, rel_pred), annot=True, fmt='d', cmap=\"Greens\",\n",
    "            xticklabels=le_rel.classes_, yticklabels=le_rel.classes_)\n",
    "plt.title(\"Confusion Matrix: Relaxation\")\n",
    "plt.xlabel(\"Predicted\")\n",
    "plt.ylabel(\"True\")\n",
    "plt.tight_layout()\n",
    "plt.show()\n"
   ]
  },
  {
   "cell_type": "code",
   "execution_count": 9,
   "id": "e37fe74c",
   "metadata": {},
   "outputs": [
    {
     "name": "stderr",
     "output_type": "stream",
     "text": [
      "WARNING:absl:You are saving your model as an HDF5 file via `model.save()` or `keras.saving.save_model(model)`. This file format is considered legacy. We recommend using instead the native Keras format, e.g. `model.save('my_model.keras')` or `keras.saving.save_model(model, 'my_model.keras')`. \n"
     ]
    }
   ],
   "source": [
    "model.save(\"best_eeg_cnn_bilstm.h5\")"
   ]
  },
  {
   "cell_type": "code",
   "execution_count": 7,
   "id": "b6000c66",
   "metadata": {},
   "outputs": [],
   "source": [
    "np.save(\"le_att_classes.npy\", le_att.classes_)\n",
    "np.save(\"le_rel_classes.npy\", le_rel.classes_)\n"
   ]
  },
  {
   "cell_type": "code",
   "execution_count": 8,
   "id": "c8cba7c5",
   "metadata": {},
   "outputs": [],
   "source": [
    "# Save your full feature_cols from training\n",
    "import json\n",
    "with open(\"feature_cols.json\", \"w\") as f:\n",
    "    json.dump(feature_cols, f)\n"
   ]
  },
  {
   "cell_type": "code",
   "execution_count": null,
   "id": "442948ce",
   "metadata": {},
   "outputs": [],
   "source": []
  }
 ],
 "metadata": {
  "kernelspec": {
   "display_name": "Python 3 (ipykernel)",
   "language": "python",
   "name": "python3"
  },
  "language_info": {
   "codemirror_mode": {
    "name": "ipython",
    "version": 3
   },
   "file_extension": ".py",
   "mimetype": "text/x-python",
   "name": "python",
   "nbconvert_exporter": "python",
   "pygments_lexer": "ipython3",
   "version": "3.9.13"
  }
 },
 "nbformat": 4,
 "nbformat_minor": 5
}
